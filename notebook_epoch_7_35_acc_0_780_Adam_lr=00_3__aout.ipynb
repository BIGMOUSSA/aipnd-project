{
  "cells": [
    {
      "cell_type": "markdown",
      "metadata": {
        "id": "view-in-github",
        "colab_type": "text"
      },
      "source": [
        "<a href=\"https://colab.research.google.com/github/BIGMOUSSA/aipnd-project/blob/master/notebook_epoch_7_35_acc_0_780_Adam_lr%3D00_3__aout.ipynb\" target=\"_parent\"><img src=\"https://colab.research.google.com/assets/colab-badge.svg\" alt=\"Open In Colab\"/></a>"
      ]
    },
    {
      "cell_type": "markdown",
      "metadata": {
        "id": "0-5xM2LC3Pw3"
      },
      "source": [
        "# Developing an AI application\n",
        "\n",
        "Going forward, AI algorithms will be incorporated into more and more everyday applications. For example, you might want to include an image classifier in a smart phone app. To do this, you'd use a deep learning model trained on hundreds of thousands of images as part of the overall application architecture. A large part of software development in the future will be using these types of models as common parts of applications.\n",
        "\n",
        "In this project, you'll train an image classifier to recognize different species of flowers. You can imagine using something like this in a phone app that tells you the name of the flower your camera is looking at. In practice you'd train this classifier, then export it for use in your application. We'll be using [this dataset](http://www.robots.ox.ac.uk/~vgg/data/flowers/102/index.html) of 102 flower categories, you can see a few examples below.\n",
        "\n",
        "<img src='assets/Flowers.png' width=500px>\n",
        "\n",
        "The project is broken down into multiple steps:\n",
        "\n",
        "* Load and preprocess the image dataset\n",
        "* Train the image classifier on your dataset\n",
        "* Use the trained classifier to predict image content\n",
        "\n",
        "We'll lead you through each part which you'll implement in Python.\n",
        "\n",
        "When you've completed this project, you'll have an application that can be trained on any set of labeled images. Here your network will be learning about flowers and end up as a command line application. But, what you do with your new skills depends on your imagination and effort in building a dataset. For example, imagine an app where you take a picture of a car, it tells you what the make and model is, then looks up information about it. Go build your own dataset and make something new.\n",
        "\n",
        "First up is importing the packages you'll need. It's good practice to keep all the imports at the beginning of your code. As you work through this notebook and find you need to import a package, make sure to add the import up here."
      ]
    },
    {
      "cell_type": "code",
      "execution_count": null,
      "metadata": {
        "id": "ReUnttl-3Pw-"
      },
      "outputs": [],
      "source": [
        "#!pip3 install torch torchvision\n",
        "#!conda install --upgrade torch==1.10.2\n"
      ]
    },
    {
      "cell_type": "code",
      "execution_count": null,
      "metadata": {
        "id": "f5umNrin3PxA"
      },
      "outputs": [],
      "source": [
        "#!conda install pytorch==1.10.2 torchvision cudatoolkit=8.0 -c pytorch"
      ]
    },
    {
      "cell_type": "code",
      "execution_count": null,
      "metadata": {
        "id": "9xET-P0V3PxB"
      },
      "outputs": [],
      "source": [
        "# Imports here\n",
        "%matplotlib inline\n",
        "%config InlineBackend.figure_format = 'retina'\n",
        "\n",
        "import matplotlib.pyplot as plt\n",
        "\n",
        "import torch\n",
        "from torch import nn\n",
        "from torch import optim\n",
        "import torch.nn.functional as F\n",
        "from torchvision import datasets, transforms, models"
      ]
    },
    {
      "cell_type": "code",
      "execution_count": null,
      "metadata": {
        "colab": {
          "base_uri": "https://localhost:8080/"
        },
        "id": "uJpyXmxp3PxE",
        "outputId": "aced5ca4-df96-459c-f79d-ae2623fb52c5"
      },
      "outputs": [
        {
          "output_type": "stream",
          "name": "stdout",
          "text": [
            "True\n"
          ]
        }
      ],
      "source": [
        "print(torch.cuda.is_available())"
      ]
    },
    {
      "cell_type": "code",
      "execution_count": null,
      "metadata": {
        "colab": {
          "base_uri": "https://localhost:8080/"
        },
        "id": "hGmbdFSL3PxG",
        "outputId": "1c0376fa-c410-47d7-aeb6-15e4de89fbb7"
      },
      "outputs": [
        {
          "output_type": "stream",
          "name": "stdout",
          "text": [
            "11.8\n"
          ]
        }
      ],
      "source": [
        "print(torch.version.cuda)"
      ]
    },
    {
      "cell_type": "code",
      "execution_count": null,
      "metadata": {
        "colab": {
          "base_uri": "https://localhost:8080/"
        },
        "id": "fgvulRYf3PxH",
        "outputId": "770684ee-4876-4e92-9bfb-81086b3d7cac"
      },
      "outputs": [
        {
          "output_type": "stream",
          "name": "stdout",
          "text": [
            "2.0.1+cu118\n"
          ]
        }
      ],
      "source": [
        "print(torch.__version__)"
      ]
    },
    {
      "cell_type": "code",
      "execution_count": null,
      "metadata": {
        "colab": {
          "base_uri": "https://localhost:8080/"
        },
        "id": "JDaDEvps3PxJ",
        "outputId": "4ed1249c-7cf0-43af-873a-84e9d4fa1bfa"
      },
      "outputs": [
        {
          "output_type": "stream",
          "name": "stdout",
          "text": [
            "0.15.2+cu118\n"
          ]
        }
      ],
      "source": [
        "import torchvision\n",
        "print(torchvision.__version__)"
      ]
    },
    {
      "cell_type": "code",
      "execution_count": null,
      "metadata": {
        "colab": {
          "base_uri": "https://localhost:8080/"
        },
        "id": "25JQ6rvv3PxL",
        "outputId": "13886ce5-ad58-41c3-c3e9-078a92af7fbe"
      },
      "outputs": [
        {
          "output_type": "stream",
          "name": "stdout",
          "text": [
            "Fri Aug 11 10:44:42 2023       \n",
            "+-----------------------------------------------------------------------------+\n",
            "| NVIDIA-SMI 525.105.17   Driver Version: 525.105.17   CUDA Version: 12.0     |\n",
            "|-------------------------------+----------------------+----------------------+\n",
            "| GPU  Name        Persistence-M| Bus-Id        Disp.A | Volatile Uncorr. ECC |\n",
            "| Fan  Temp  Perf  Pwr:Usage/Cap|         Memory-Usage | GPU-Util  Compute M. |\n",
            "|                               |                      |               MIG M. |\n",
            "|===============================+======================+======================|\n",
            "|   0  Tesla T4            Off  | 00000000:00:04.0 Off |                    0 |\n",
            "| N/A   36C    P8     8W /  70W |      3MiB / 15360MiB |      0%      Default |\n",
            "|                               |                      |                  N/A |\n",
            "+-------------------------------+----------------------+----------------------+\n",
            "                                                                               \n",
            "+-----------------------------------------------------------------------------+\n",
            "| Processes:                                                                  |\n",
            "|  GPU   GI   CI        PID   Type   Process name                  GPU Memory |\n",
            "|        ID   ID                                                   Usage      |\n",
            "|=============================================================================|\n",
            "|  No running processes found                                                 |\n",
            "+-----------------------------------------------------------------------------+\n"
          ]
        }
      ],
      "source": [
        "!nvidia-smi"
      ]
    },
    {
      "cell_type": "markdown",
      "metadata": {
        "id": "utBCQ9AS3PxN"
      },
      "source": [
        "## Load the data\n",
        "\n",
        "Here you'll use `torchvision` to load the data ([documentation](http://pytorch.org/docs/0.3.0/torchvision/index.html)). The data should be included alongside this notebook, otherwise you can [download it here](https://s3.amazonaws.com/content.udacity-data.com/nd089/flower_data.tar.gz)."
      ]
    },
    {
      "cell_type": "markdown",
      "metadata": {
        "id": "DdSUfVPa3PxO"
      },
      "source": [
        "If you do not find the `flowers/` dataset in the current directory, **/workspace/home/aipnd-project/**, you can download it using the following commands.\n",
        "\n",
        "```bash\n",
        "!wget 'https://s3.amazonaws.com/content.udacity-data.com/nd089/flower_data.tar.gz'\n",
        "!unlink flowers\n",
        "!mkdir flowers && tar -xzf flower_data.tar.gz -C flowers\n",
        "```\n"
      ]
    },
    {
      "cell_type": "markdown",
      "metadata": {
        "id": "lIADrzrW3PxQ"
      },
      "source": [
        "## Data Description\n",
        "The dataset is split into three parts, training, validation, and testing. For the training, you'll want to apply transformations such as random scaling, cropping, and flipping. This will help the network generalize leading to better performance. You'll also need to make sure the input data is resized to 224x224 pixels as required by the pre-trained networks.\n",
        "\n",
        "The validation and testing sets are used to measure the model's performance on data it hasn't seen yet. For this you don't want any scaling or rotation transformations, but you'll need to resize then crop the images to the appropriate size.\n",
        "\n",
        "The pre-trained networks you'll use were trained on the ImageNet dataset where each color channel was normalized separately. For all three sets you'll need to normalize the means and standard deviations of the images to what the network expects. For the means, it's `[0.485, 0.456, 0.406]` and for the standard deviations `[0.229, 0.224, 0.225]`, calculated from the ImageNet images.  These values will shift each color channel to be centered at 0 and range from -1 to 1.\n"
      ]
    },
    {
      "cell_type": "code",
      "execution_count": null,
      "metadata": {
        "colab": {
          "base_uri": "https://localhost:8080/"
        },
        "id": "f63fKPhg3PxQ",
        "outputId": "56da2a42-bd86-45a2-969e-a266f7b29483"
      },
      "outputs": [
        {
          "output_type": "stream",
          "name": "stdout",
          "text": [
            "--2023-08-11 10:44:42--  https://s3.amazonaws.com/content.udacity-data.com/nd089/flower_data.tar.gz\n",
            "Resolving s3.amazonaws.com (s3.amazonaws.com)... 52.216.38.32, 54.231.137.224, 52.217.225.144, ...\n",
            "Connecting to s3.amazonaws.com (s3.amazonaws.com)|52.216.38.32|:443... connected.\n",
            "HTTP request sent, awaiting response... 200 OK\n",
            "Length: 344873452 (329M) [application/x-gzip]\n",
            "Saving to: ‘flower_data.tar.gz.1’\n",
            "\n",
            "flower_data.tar.gz. 100%[===================>] 328.90M  33.9MB/s    in 10s     \n",
            "\n",
            "2023-08-11 10:44:53 (31.7 MB/s) - ‘flower_data.tar.gz.1’ saved [344873452/344873452]\n",
            "\n",
            "unlink: cannot unlink 'flowers': Is a directory\n",
            "mkdir: cannot create directory ‘flowers’: File exists\n"
          ]
        }
      ],
      "source": [
        "!wget 'https://s3.amazonaws.com/content.udacity-data.com/nd089/flower_data.tar.gz'\n",
        "!unlink flowers\n",
        "!mkdir flowers && tar -xzf flower_data.tar.gz -C flowers"
      ]
    },
    {
      "cell_type": "code",
      "execution_count": null,
      "metadata": {
        "id": "X4_J5bDG3PxR"
      },
      "outputs": [],
      "source": [
        "data_dir = 'flowers'\n",
        "train_dir = data_dir + '/train'\n",
        "valid_dir = data_dir + '/valid'\n",
        "test_dir = data_dir + '/test'"
      ]
    },
    {
      "cell_type": "code",
      "execution_count": null,
      "metadata": {
        "id": "DYX9BLpg3PxS"
      },
      "outputs": [],
      "source": [
        "# TODO: Define your transforms for the training, validation, and testing sets\n",
        "\n",
        "train_transforms = transforms.Compose([\n",
        "    transforms.RandomResizedCrop(224),\n",
        "    transforms.Resize(224),\n",
        "    transforms.ToTensor(),\n",
        "    transforms.Normalize(mean=[0.485, 0.456, 0.406], std=[0.229, 0.224, 0.225]),\n",
        "])\n",
        "\n",
        "\n",
        "test_transforms = transforms.Compose([transforms.Resize(224),\n",
        "                                      transforms.CenterCrop(224),\n",
        "                                      transforms.ToTensor(),\n",
        "                                      transforms.Normalize(mean=[0.485, 0.456, 0.406], std=[0.229, 0.224, 0.225])])\n",
        "# TODO: Load the datasets with ImageFolder\n",
        "train_datasets =  datasets.ImageFolder(train_dir, transform = train_transforms)\n",
        "test_datasets =  datasets.ImageFolder(test_dir, transform = test_transforms)\n",
        "valid_datasets =  datasets.ImageFolder(valid_dir, transform = test_transforms)\n",
        "\n",
        "# TODO: Using the image datasets and the trainforms, define the dataloaders\n",
        "train_dataloaders = torch.utils.data.DataLoader(train_datasets, batch_size = 64, shuffle = True)\n",
        "test_dataloaders = torch.utils.data.DataLoader(test_datasets, batch_size = 64, shuffle = True)\n",
        "valid_dataloaders = torch.utils.data.DataLoader(valid_datasets, batch_size = 64, shuffle = True)"
      ]
    },
    {
      "cell_type": "markdown",
      "source": [],
      "metadata": {
        "id": "EdZDOZToKO57"
      }
    },
    {
      "cell_type": "code",
      "execution_count": null,
      "metadata": {
        "id": "zkiUqONy3PxU"
      },
      "outputs": [],
      "source": [
        "#!pip install helper"
      ]
    },
    {
      "cell_type": "code",
      "execution_count": null,
      "metadata": {
        "id": "z_LqcMLH3PxU",
        "outputId": "6b2ed9ab-56a4-4c7c-cc1f-b35acda37d2e",
        "colab": {
          "base_uri": "https://localhost:8080/",
          "height": 70
        }
      },
      "outputs": [
        {
          "output_type": "execute_result",
          "data": {
            "text/plain": [
              "'\\nimport helper\\n# change this to the trainloader or testloader\\ndata_iter = iter(train_dataloaders)\\n\\nimages, labels = next(data_iter)\\nfig, axes = plt.subplots(figsize=(10,4), ncols=4)\\nfor ii in range(4):\\n    print(images.size(0))\\n    ax = axes[ii]\\n    plt.imshow(images[ii], ax=ax, normalize=False)\\n'"
            ],
            "application/vnd.google.colaboratory.intrinsic+json": {
              "type": "string"
            }
          },
          "metadata": {},
          "execution_count": 97
        }
      ],
      "source": [
        "\n"
      ]
    },
    {
      "cell_type": "code",
      "execution_count": null,
      "metadata": {
        "colab": {
          "base_uri": "https://localhost:8080/",
          "height": 653
        },
        "id": "Mm3LB9Kv3PxV",
        "outputId": "6022d732-b541-4f5c-822c-8fe69b9c6023"
      },
      "outputs": [
        {
          "output_type": "display_data",
          "data": {
            "text/plain": [
              "<Figure size 800x800 with 1 Axes>"
            ],
            "image/png": "[encoded data removed]"
          },
          "metadata": {
            "image/png": {
              "width": 636,
              "height": 636
            }
          }
        }
      ],
      "source": [
        "# Get a random batch\n",
        "data_iter = iter(test_datasets)\n",
        "images, _ = next(data_iter)\n",
        "\n",
        "# Denormalize the image before displaying\n",
        "\"\"\"\n",
        "denormalize = transforms.Compose([\n",
        "    transforms.Normalize(mean=[0, 0, 0], std=[1/0.229, 1/0.224, 1/0.225]),\n",
        "    transforms.Normalize(mean=[-0.485, -0.456, -0.406], std=[1, 1, 1]),\n",
        "])\n",
        "\"\"\"\n",
        "\n",
        "import random\n",
        "# Generate a random index\n",
        "i = random.randint(0, len(images) - 1)\n",
        "\n",
        "# Display the image\n",
        "plt.figure(figsize=(8, 8))\n",
        "plt.imshow(images[i])  # Use the randomly generated index 'i'\n",
        "plt.axis('off')\n",
        "plt.show()\n"
      ]
    },
    {
      "cell_type": "code",
      "execution_count": null,
      "metadata": {
        "colab": {
          "base_uri": "https://localhost:8080/"
        },
        "id": "VVVDfJ0g3PxW",
        "outputId": "a72101e4-9f04-45b0-d3fe-fe9427c5b224"
      },
      "outputs": [
        {
          "output_type": "execute_result",
          "data": {
            "text/plain": [
              "torch.Size([64, 3, 224, 224])"
            ]
          },
          "metadata": {},
          "execution_count": 62
        }
      ],
      "source": [
        "next(iter(train_dataloaders))[0].shape"
      ]
    },
    {
      "cell_type": "code",
      "execution_count": null,
      "metadata": {
        "colab": {
          "base_uri": "https://localhost:8080/"
        },
        "id": "_0SEV6ks3PxW",
        "outputId": "9daeee4b-5db8-4582-bcb3-740f669cf442"
      },
      "outputs": [
        {
          "output_type": "stream",
          "name": "stdout",
          "text": [
            "Number of classes: 102\n"
          ]
        }
      ],
      "source": [
        "import os\n",
        "\n",
        "data_dir = train_dir  # Update this with the path to your dataset directory\n",
        "\n",
        "# List all subdirectories (classes) within the dataset directory\n",
        "class_names = os.listdir(data_dir)\n",
        "\n",
        "# Count the number of classes\n",
        "num_classes = len(class_names)\n",
        "\n",
        "print(f\"Number of classes: {num_classes}\")\n"
      ]
    },
    {
      "cell_type": "code",
      "execution_count": null,
      "metadata": {
        "colab": {
          "base_uri": "https://localhost:8080/"
        },
        "id": "FNkrm9NU3PxX",
        "outputId": "3be0275a-01f7-4fc1-dfb9-043a79ea08d3"
      },
      "outputs": [
        {
          "output_type": "execute_result",
          "data": {
            "text/plain": [
              "torch.Size([64, 3, 224, 224])"
            ]
          },
          "metadata": {},
          "execution_count": 64
        }
      ],
      "source": [
        "next(iter(test_dataloaders))[0].shape"
      ]
    },
    {
      "cell_type": "markdown",
      "metadata": {
        "id": "Lx4RuvR03PxY"
      },
      "source": [
        "### Label mapping\n",
        "\n",
        "You'll also need to load in a mapping from category label to category name. You can find this in the file `cat_to_name.json`. It's a JSON object which you can read in with the [`json` module](https://docs.python.org/2/library/json.html). This will give you a dictionary mapping the integer encoded categories to the actual names of the flowers."
      ]
    },
    {
      "cell_type": "code",
      "execution_count": null,
      "metadata": {
        "colab": {
          "base_uri": "https://localhost:8080/"
        },
        "id": "7HWGLD553PxY",
        "outputId": "964a113c-b571-4154-e2d2-267964b3ed00"
      },
      "outputs": [
        {
          "output_type": "stream",
          "name": "stdout",
          "text": [
            "JSON file created successfully!\n"
          ]
        }
      ],
      "source": [
        "import json\n",
        "\n",
        "data = {\n",
        "    \"21\": \"fire lily\",\n",
        "    \"3\": \"canterbury bells\",\n",
        "    \"45\": \"bolero deep blue\",\n",
        "    \"1\": \"pink primrose\",\n",
        "    \"34\": \"mexican aster\",\n",
        "    \"27\": \"prince of wales feathers\",\n",
        "    \"7\": \"moon orchid\",\n",
        "    \"16\": \"globe-flower\",\n",
        "    \"25\": \"grape hyacinth\",\n",
        "    \"26\": \"corn poppy\",\n",
        "    \"79\": \"toad lily\",\n",
        "    \"39\": \"siam tulip\",\n",
        "    \"24\": \"red ginger\",\n",
        "    \"67\": \"spring crocus\",\n",
        "    \"35\": \"alpine sea holly\",\n",
        "    \"32\": \"garden phlox\",\n",
        "    \"10\": \"globe thistle\",\n",
        "    \"6\": \"tiger lily\",\n",
        "    \"93\": \"ball moss\",\n",
        "    \"33\": \"love in the mist\",\n",
        "    \"9\": \"monkshood\",\n",
        "    \"102\": \"blackberry lily\",\n",
        "    \"14\": \"spear thistle\",\n",
        "    \"19\": \"balloon flower\",\n",
        "    \"100\": \"blanket flower\",\n",
        "    \"13\": \"king protea\",\n",
        "    \"49\": \"oxeye daisy\",\n",
        "    \"15\": \"yellow iris\",\n",
        "    \"61\": \"cautleya spicata\",\n",
        "    \"31\": \"carnation\",\n",
        "    \"64\": \"silverbush\",\n",
        "    \"68\": \"bearded iris\",\n",
        "    \"63\": \"black-eyed susan\",\n",
        "    \"69\": \"windflower\",\n",
        "    \"62\": \"japanese anemone\",\n",
        "    \"20\": \"giant white arum lily\",\n",
        "    \"38\": \"great masterwort\",\n",
        "    \"4\": \"sweet pea\",\n",
        "    \"86\": \"tree mallow\",\n",
        "    \"101\": \"trumpet creeper\",\n",
        "    \"42\": \"daffodil\",\n",
        "    \"22\": \"pincushion flower\",\n",
        "    \"2\": \"hard-leaved pocket orchid\",\n",
        "    \"54\": \"sunflower\",\n",
        "    \"66\": \"osteospermum\",\n",
        "    \"70\": \"tree poppy\",\n",
        "    \"85\": \"desert-rose\",\n",
        "    \"99\": \"bromelia\",\n",
        "    \"87\": \"magnolia\",\n",
        "    \"5\": \"english marigold\",\n",
        "    \"92\": \"bee balm\",\n",
        "    \"28\": \"stemless gentian\",\n",
        "    \"97\": \"mallow\",\n",
        "    \"57\": \"gaura\",\n",
        "    \"40\": \"lenten rose\",\n",
        "    \"47\": \"marigold\",\n",
        "    \"59\": \"orange dahlia\",\n",
        "    \"48\": \"buttercup\",\n",
        "    \"55\": \"pelargonium\",\n",
        "    \"36\": \"ruby-lipped cattleya\",\n",
        "    \"91\": \"hippeastrum\",\n",
        "    \"29\": \"artichoke\",\n",
        "    \"71\": \"gazania\",\n",
        "    \"90\": \"canna lily\",\n",
        "    \"18\": \"peruvian lily\",\n",
        "    \"98\": \"mexican petunia\",\n",
        "    \"8\": \"bird of paradise\",\n",
        "    \"30\": \"sweet william\",\n",
        "    \"17\": \"purple coneflower\",\n",
        "    \"52\": \"wild pansy\",\n",
        "    \"84\": \"columbine\",\n",
        "    \"12\": \"colt's foot\",\n",
        "    \"11\": \"snapdragon\",\n",
        "    \"96\": \"camellia\",\n",
        "    \"23\": \"fritillary\",\n",
        "    \"50\": \"common dandelion\",\n",
        "    \"44\": \"poinsettia\",\n",
        "    \"53\": \"primula\",\n",
        "    \"72\": \"azalea\",\n",
        "    \"65\": \"californian poppy\",\n",
        "    \"80\": \"anthurium\",\n",
        "    \"76\": \"morning glory\",\n",
        "    \"37\": \"cape flower\",\n",
        "    \"56\": \"bishop of llandaff\",\n",
        "    \"60\": \"pink-yellow dahlia\",\n",
        "    \"82\": \"clematis\",\n",
        "    \"58\": \"geranium\",\n",
        "    \"75\": \"thorn apple\",\n",
        "    \"41\": \"barbeton daisy\",\n",
        "    \"95\": \"bougainvillea\",\n",
        "    \"43\": \"sword lily\",\n",
        "    \"83\": \"hibiscus\",\n",
        "    \"78\": \"lotus lotus\",\n",
        "    \"88\": \"cyclamen\",\n",
        "    \"94\": \"foxglove\",\n",
        "    \"81\": \"frangipani\",\n",
        "    \"74\": \"rose\",\n",
        "    \"89\": \"watercress\",\n",
        "    \"73\": \"water lily\",\n",
        "    \"46\": \"wallflower\",\n",
        "    \"77\": \"passion flower\",\n",
        "    \"51\": \"petunia\"\n",
        "}\n",
        "\n",
        "# Write the data to a JSON file\n",
        "with open(\"cat_to_name.json\", \"w\") as json_file:\n",
        "    json.dump(data, json_file, indent=4)\n",
        "\n",
        "print(\"JSON file created successfully!\")\n"
      ]
    },
    {
      "cell_type": "code",
      "execution_count": null,
      "metadata": {
        "id": "hb9ZTlaM3Pxb"
      },
      "outputs": [],
      "source": [
        "import json\n",
        "\n",
        "with open('cat_to_name.json', 'r') as f:\n",
        "    cat_to_name = json.load(f)"
      ]
    },
    {
      "cell_type": "code",
      "execution_count": null,
      "metadata": {
        "id": "q7JYYIuP3Pxc"
      },
      "outputs": [],
      "source": []
    },
    {
      "cell_type": "markdown",
      "metadata": {
        "id": "MIuDsOoC3Pxc"
      },
      "source": [
        "# Building and training the classifier\n",
        "\n",
        "Now that the data is ready, it's time to build and train the classifier. As usual, you should use one of the pretrained models from `torchvision.models` to get the image features. Build and train a new feed-forward classifier using those features.\n",
        "\n",
        "We're going to leave this part up to you. Refer to [the rubric](https://review.udacity.com/#!/rubrics/1663/view) for guidance on successfully completing this section. Things you'll need to do:\n",
        "\n",
        "* Load a [pre-trained network](http://pytorch.org/docs/master/torchvision/models.html) (If you need a starting point, the VGG networks work great and are straightforward to use)\n",
        "* Define a new, untrained feed-forward network as a classifier, using ReLU activations and dropout\n",
        "* Train the classifier layers using backpropagation using the pre-trained network to get the features\n",
        "* Track the loss and accuracy on the validation set to determine the best hyperparameters\n",
        "\n",
        "We've left a cell open for you below, but use as many as you need. Our advice is to break the problem up into smaller parts you can run separately. Check that each part is doing what you expect, then move on to the next. You'll likely find that as you work through each part, you'll need to go back and modify your previous code. This is totally normal!\n",
        "\n",
        "When training make sure you're updating only the weights of the feed-forward network. You should be able to get the validation accuracy above 70% if you build everything right. Make sure to try different hyperparameters (learning rate, units in the classifier, epochs, etc) to find the best model. Save those hyperparameters to use as default values in the next part of the project.\n",
        "\n",
        "One last important tip if you're using the workspace to run your code: To avoid having your workspace disconnect during the long-running tasks in this notebook, please read in the earlier page in this lesson called Intro to\n",
        "GPU Workspaces about Keeping Your Session Active. You'll want to include code from the workspace_utils.py module.\n",
        "\n",
        "## Note for Workspace users:\n",
        "If your network is over 1 GB when saved as a checkpoint, there might be issues with saving backups in your workspace. Typically this happens with wide dense layers after the convolutional layers. If your saved checkpoint is larger than 1 GB (you can open a terminal and check with `ls -lh`), you should reduce the size of your hidden layers and train again."
      ]
    },
    {
      "cell_type": "code",
      "execution_count": null,
      "metadata": {
        "id": "iBRmOBUq3Pxd",
        "colab": {
          "base_uri": "https://localhost:8080/"
        },
        "outputId": "0bb032e8-f52e-4717-c7e3-6920bc7e272a"
      },
      "outputs": [
        {
          "output_type": "stream",
          "name": "stderr",
          "text": [
            "Downloading: \"https://download.pytorch.org/models/vgg16-397923af.pth\" to /root/.cache/torch/hub/checkpoints/vgg16-397923af.pth\n",
            "100%|██████████| 528M/528M [00:02<00:00, 256MB/s]\n"
          ]
        }
      ],
      "source": [
        "# TODO: Build and train your network\n",
        "\n",
        "model = models.vgg16(weights=\"DEFAULT\")\n",
        "#model = torchvision.models.resnet50(pretrained = True)\n"
      ]
    },
    {
      "cell_type": "code",
      "execution_count": null,
      "metadata": {
        "id": "mQ4bKtjC3Pxd",
        "outputId": "b4519961-fe06-4493-a7a8-e3f03d88392c",
        "colab": {
          "base_uri": "https://localhost:8080/"
        }
      },
      "outputs": [
        {
          "output_type": "execute_result",
          "data": {
            "text/plain": [
              "VGG(\n",
              "  (features): Sequential(\n",
              "    (0): Conv2d(3, 64, kernel_size=(3, 3), stride=(1, 1), padding=(1, 1))\n",
              "    (1): ReLU(inplace=True)\n",
              "    (2): Conv2d(64, 64, kernel_size=(3, 3), stride=(1, 1), padding=(1, 1))\n",
              "    (3): ReLU(inplace=True)\n",
              "    (4): MaxPool2d(kernel_size=2, stride=2, padding=0, dilation=1, ceil_mode=False)\n",
              "    (5): Conv2d(64, 128, kernel_size=(3, 3), stride=(1, 1), padding=(1, 1))\n",
              "    (6): ReLU(inplace=True)\n",
              "    (7): Conv2d(128, 128, kernel_size=(3, 3), stride=(1, 1), padding=(1, 1))\n",
              "    (8): ReLU(inplace=True)\n",
              "    (9): MaxPool2d(kernel_size=2, stride=2, padding=0, dilation=1, ceil_mode=False)\n",
              "    (10): Conv2d(128, 256, kernel_size=(3, 3), stride=(1, 1), padding=(1, 1))\n",
              "    (11): ReLU(inplace=True)\n",
              "    (12): Conv2d(256, 256, kernel_size=(3, 3), stride=(1, 1), padding=(1, 1))\n",
              "    (13): ReLU(inplace=True)\n",
              "    (14): Conv2d(256, 256, kernel_size=(3, 3), stride=(1, 1), padding=(1, 1))\n",
              "    (15): ReLU(inplace=True)\n",
              "    (16): MaxPool2d(kernel_size=2, stride=2, padding=0, dilation=1, ceil_mode=False)\n",
              "    (17): Conv2d(256, 512, kernel_size=(3, 3), stride=(1, 1), padding=(1, 1))\n",
              "    (18): ReLU(inplace=True)\n",
              "    (19): Conv2d(512, 512, kernel_size=(3, 3), stride=(1, 1), padding=(1, 1))\n",
              "    (20): ReLU(inplace=True)\n",
              "    (21): Conv2d(512, 512, kernel_size=(3, 3), stride=(1, 1), padding=(1, 1))\n",
              "    (22): ReLU(inplace=True)\n",
              "    (23): MaxPool2d(kernel_size=2, stride=2, padding=0, dilation=1, ceil_mode=False)\n",
              "    (24): Conv2d(512, 512, kernel_size=(3, 3), stride=(1, 1), padding=(1, 1))\n",
              "    (25): ReLU(inplace=True)\n",
              "    (26): Conv2d(512, 512, kernel_size=(3, 3), stride=(1, 1), padding=(1, 1))\n",
              "    (27): ReLU(inplace=True)\n",
              "    (28): Conv2d(512, 512, kernel_size=(3, 3), stride=(1, 1), padding=(1, 1))\n",
              "    (29): ReLU(inplace=True)\n",
              "    (30): MaxPool2d(kernel_size=2, stride=2, padding=0, dilation=1, ceil_mode=False)\n",
              "  )\n",
              "  (avgpool): AdaptiveAvgPool2d(output_size=(7, 7))\n",
              "  (classifier): Sequential(\n",
              "    (0): Linear(in_features=25088, out_features=4096, bias=True)\n",
              "    (1): ReLU(inplace=True)\n",
              "    (2): Dropout(p=0.5, inplace=False)\n",
              "    (3): Linear(in_features=4096, out_features=4096, bias=True)\n",
              "    (4): ReLU(inplace=True)\n",
              "    (5): Dropout(p=0.5, inplace=False)\n",
              "    (6): Linear(in_features=4096, out_features=1000, bias=True)\n",
              "  )\n",
              ")"
            ]
          },
          "metadata": {},
          "execution_count": 68
        }
      ],
      "source": [
        "model"
      ]
    },
    {
      "cell_type": "code",
      "execution_count": null,
      "metadata": {
        "id": "jh2xh5Q03Pxe"
      },
      "outputs": [],
      "source": [
        "# Use GPU if it's available\n",
        "device = torch.device(\"cuda\" if torch.cuda.is_available() else \"cpu\")"
      ]
    },
    {
      "cell_type": "code",
      "execution_count": null,
      "metadata": {
        "id": "ZniwzNo73Pxf"
      },
      "outputs": [],
      "source": [
        "# lets freeze the parameter\n",
        "for param in model.parameters():\n",
        "    param.requires_grad = False"
      ]
    },
    {
      "cell_type": "code",
      "execution_count": null,
      "metadata": {
        "id": "J5E7pBJu3Pxf"
      },
      "outputs": [],
      "source": [
        "model.classifier = nn.Sequential(nn.Linear(25088, 4096),\n",
        "                                 nn.ReLU(),\n",
        "                                 nn.Dropout(0.2),\n",
        "                                 nn.Linear(4096, 102),\n",
        "                                 nn.LogSoftmax(dim=1))"
      ]
    },
    {
      "cell_type": "code",
      "execution_count": null,
      "metadata": {
        "id": "aSRgPhOT3Pxg",
        "outputId": "19bf044e-d306-4486-eb12-d48e8804f16e",
        "colab": {
          "base_uri": "https://localhost:8080/",
          "height": 139
        }
      },
      "outputs": [
        {
          "output_type": "execute_result",
          "data": {
            "text/plain": [
              "'\\nmodel.fc = nn.Sequential(\\n    nn.Linear(model.fc.in_features, 2048),\\n    nn.ReLU(),\\n    nn.Dropout(0.5),\\n    nn.LogSoftmax(dim=1)\\n)\\n\\n\\n\\nmodel.classifier = nn.Sequential(nn.Linear(in_features=25088, out_features=4096, bias=True),\\n                                 nn.ReLU(inplace = True),\\n                                 nn.Dropout(0.5, inplace = False),\\n                                 nn.Linear(4096, 102, bias = True),\\n                                 nn.LogSoftmax(dim=1))\\n\\n\\nSequential(\\n    (0): Linear(in_features=25088, out_features=4096, bias=True)\\n    (1): ReLU(inplace=True)\\n    (2): Dropout(p=0.5, inplace=False)\\n    (3): Linear(in_features=4096, out_features=4096, bias=True)\\n    (4): ReLU(inplace=True)\\n    (5): Dropout(p=0.5, inplace=False)\\n    (6): Linear(in_features=4096, out_features=1000, bias=True)\\n'"
            ],
            "application/vnd.google.colaboratory.intrinsic+json": {
              "type": "string"
            }
          },
          "metadata": {},
          "execution_count": 72
        }
      ],
      "source": [
        "\"\"\"\n",
        "model.fc = nn.Sequential(\n",
        "    nn.Linear(model.fc.in_features, 2048),\n",
        "    nn.ReLU(),\n",
        "    nn.Dropout(0.5),\n",
        "    nn.LogSoftmax(dim=1)\n",
        ")\n",
        "\n",
        "\n",
        "\n",
        "model.classifier = nn.Sequential(nn.Linear(in_features=25088, out_features=4096, bias=True),\n",
        "                                 nn.ReLU(inplace = True),\n",
        "                                 nn.Dropout(0.5, inplace = False),\n",
        "                                 nn.Linear(4096, 102, bias = True),\n",
        "                                 nn.LogSoftmax(dim=1))\n",
        "\n",
        "\n",
        "Sequential(\n",
        "    (0): Linear(in_features=25088, out_features=4096, bias=True)\n",
        "    (1): ReLU(inplace=True)\n",
        "    (2): Dropout(p=0.5, inplace=False)\n",
        "    (3): Linear(in_features=4096, out_features=4096, bias=True)\n",
        "    (4): ReLU(inplace=True)\n",
        "    (5): Dropout(p=0.5, inplace=False)\n",
        "    (6): Linear(in_features=4096, out_features=1000, bias=True)\n",
        "\"\"\""
      ]
    },
    {
      "cell_type": "code",
      "execution_count": null,
      "metadata": {
        "id": "SstFp6B03Pxh"
      },
      "outputs": [],
      "source": [
        "#model"
      ]
    },
    {
      "cell_type": "code",
      "execution_count": null,
      "metadata": {
        "id": "gDZ9J8fX3Pxh"
      },
      "outputs": [],
      "source": [
        "#criterion = nn.CrossEntropyLoss()\n",
        "#optimizer = optim.SGD(model.parameters(), lr=0.002, momentum=0.9)\n"
      ]
    },
    {
      "cell_type": "code",
      "execution_count": null,
      "metadata": {
        "id": "kA2iLPgR3Pxi"
      },
      "outputs": [],
      "source": [
        "criterion = nn.NLLLoss()\n",
        "#criterion = nn.NLLLoss().to(device)"
      ]
    },
    {
      "cell_type": "code",
      "execution_count": null,
      "metadata": {
        "id": "FEiWaK7q3Pxj"
      },
      "outputs": [],
      "source": [
        "# Only train the classifier parameters, feature parameters are frozen\n",
        "optimizer = optim.Adam(model.classifier.parameters(), lr=0.003)\n",
        "\n",
        "model.to(device);"
      ]
    },
    {
      "cell_type": "code",
      "source": [
        "class EarlyStopping:\n",
        "    def __init__(self, patience=5, delta=0):\n",
        "        self.patience = patience\n",
        "        self.delta = delta\n",
        "        self.counter = 0\n",
        "        self.best_score = None\n",
        "        self.early_stop = False\n",
        "\n",
        "    def __call__(self, val_loss):\n",
        "        if self.best_score is None:\n",
        "            self.best_score = val_loss\n",
        "        elif val_loss > self.best_score + self.delta:\n",
        "            self.counter += 1\n",
        "            if self.counter >= self.patience:\n",
        "                self.early_stop = True\n",
        "        else:\n",
        "            self.best_score = val_loss\n",
        "            self.counter = 0\n"
      ],
      "metadata": {
        "id": "7J_uUPx0xbev"
      },
      "execution_count": null,
      "outputs": []
    },
    {
      "cell_type": "code",
      "source": [
        "# Instantiate the EarlyStopping object\n",
        "early_stopping = EarlyStopping(patience=25, delta=0.001)"
      ],
      "metadata": {
        "id": "OUg7rih4ylrv"
      },
      "execution_count": null,
      "outputs": []
    },
    {
      "cell_type": "code",
      "execution_count": null,
      "metadata": {
        "id": "XIGlu7K-3Pxk",
        "outputId": "85e09182-ed90-4795-a5b7-9765f8c1136e",
        "colab": {
          "base_uri": "https://localhost:8080/"
        }
      },
      "outputs": [
        {
          "output_type": "stream",
          "name": "stdout",
          "text": [
            "Epoch 1/35.. Train loss: 31.196.. Test loss: 4.496.. Test accuracy: 0.136\n",
            "Epoch 1/35.. Train loss: 3.815.. Test loss: 2.979.. Test accuracy: 0.317\n",
            "Epoch 1/35.. Train loss: 3.002.. Test loss: 2.315.. Test accuracy: 0.450\n",
            "Epoch 1/35.. Train loss: 2.584.. Test loss: 2.010.. Test accuracy: 0.505\n",
            "Epoch 1/35.. Train loss: 2.435.. Test loss: 1.732.. Test accuracy: 0.564\n",
            "Epoch 1/35.. Train loss: 2.268.. Test loss: 1.491.. Test accuracy: 0.599\n",
            "Epoch 2/35.. Train loss: 0.234.. Test loss: 1.427.. Test accuracy: 0.623\n",
            "Epoch 2/35.. Train loss: 1.995.. Test loss: 1.390.. Test accuracy: 0.639\n",
            "Epoch 2/35.. Train loss: 2.045.. Test loss: 1.409.. Test accuracy: 0.639\n",
            "Epoch 2/35.. Train loss: 1.885.. Test loss: 1.451.. Test accuracy: 0.621\n",
            "Epoch 2/35.. Train loss: 1.903.. Test loss: 1.316.. Test accuracy: 0.659\n",
            "Epoch 2/35.. Train loss: 1.804.. Test loss: 1.185.. Test accuracy: 0.695\n",
            "Epoch 2/35.. Train loss: 1.771.. Test loss: 1.306.. Test accuracy: 0.673\n",
            "Epoch 3/35.. Train loss: 0.454.. Test loss: 1.164.. Test accuracy: 0.693\n",
            "Epoch 3/35.. Train loss: 1.683.. Test loss: 1.163.. Test accuracy: 0.676\n",
            "Epoch 3/35.. Train loss: 1.623.. Test loss: 1.158.. Test accuracy: 0.678\n",
            "Epoch 3/35.. Train loss: 1.712.. Test loss: 1.193.. Test accuracy: 0.688\n",
            "Epoch 3/35.. Train loss: 1.641.. Test loss: 1.241.. Test accuracy: 0.674\n",
            "Epoch 3/35.. Train loss: 1.686.. Test loss: 1.229.. Test accuracy: 0.689\n",
            "Epoch 3/35.. Train loss: 1.622.. Test loss: 1.115.. Test accuracy: 0.697\n",
            "Epoch 4/35.. Train loss: 0.600.. Test loss: 1.078.. Test accuracy: 0.728\n",
            "Epoch 4/35.. Train loss: 1.578.. Test loss: 0.963.. Test accuracy: 0.742\n",
            "Epoch 4/35.. Train loss: 1.522.. Test loss: 1.100.. Test accuracy: 0.717\n",
            "Epoch 4/35.. Train loss: 1.610.. Test loss: 1.051.. Test accuracy: 0.729\n",
            "Epoch 4/35.. Train loss: 1.495.. Test loss: 1.033.. Test accuracy: 0.735\n",
            "Epoch 4/35.. Train loss: 1.542.. Test loss: 1.217.. Test accuracy: 0.708\n",
            "Epoch 4/35.. Train loss: 1.583.. Test loss: 1.175.. Test accuracy: 0.718\n",
            "Epoch 5/35.. Train loss: 0.740.. Test loss: 1.106.. Test accuracy: 0.716\n",
            "Epoch 5/35.. Train loss: 1.374.. Test loss: 1.182.. Test accuracy: 0.738\n",
            "Epoch 5/35.. Train loss: 1.514.. Test loss: 1.050.. Test accuracy: 0.729\n",
            "Epoch 5/35.. Train loss: 1.332.. Test loss: 1.314.. Test accuracy: 0.707\n",
            "Epoch 5/35.. Train loss: 1.518.. Test loss: 1.249.. Test accuracy: 0.708\n",
            "Epoch 5/35.. Train loss: 1.705.. Test loss: 1.155.. Test accuracy: 0.711\n",
            "Epoch 5/35.. Train loss: 1.549.. Test loss: 1.060.. Test accuracy: 0.735\n",
            "Epoch 6/35.. Train loss: 0.961.. Test loss: 1.092.. Test accuracy: 0.734\n",
            "Epoch 6/35.. Train loss: 1.384.. Test loss: 1.015.. Test accuracy: 0.750\n",
            "Epoch 6/35.. Train loss: 1.426.. Test loss: 1.260.. Test accuracy: 0.726\n",
            "Epoch 6/35.. Train loss: 1.450.. Test loss: 1.068.. Test accuracy: 0.745\n",
            "Epoch 6/35.. Train loss: 1.433.. Test loss: 1.154.. Test accuracy: 0.736\n",
            "Epoch 6/35.. Train loss: 1.550.. Test loss: 1.067.. Test accuracy: 0.740\n",
            "Epoch 6/35.. Train loss: 1.477.. Test loss: 1.011.. Test accuracy: 0.732\n",
            "Epoch 7/35.. Train loss: 1.073.. Test loss: 1.054.. Test accuracy: 0.751\n",
            "Epoch 7/35.. Train loss: 1.510.. Test loss: 1.023.. Test accuracy: 0.756\n",
            "Epoch 7/35.. Train loss: 1.302.. Test loss: 0.982.. Test accuracy: 0.761\n",
            "Epoch 7/35.. Train loss: 1.465.. Test loss: 1.102.. Test accuracy: 0.733\n",
            "Epoch 7/35.. Train loss: 1.468.. Test loss: 1.139.. Test accuracy: 0.729\n",
            "Epoch 7/35.. Train loss: 1.463.. Test loss: 1.103.. Test accuracy: 0.743\n",
            "Early stopping\n",
            "Epoch 8/35.. Train loss: 1.449.. Test loss: 1.230.. Test accuracy: 0.726\n",
            "Early stopping\n",
            "Epoch 9/35.. Train loss: 1.451.. Test loss: 1.164.. Test accuracy: 0.737\n",
            "Early stopping\n",
            "Epoch 10/35.. Train loss: 1.552.. Test loss: 1.119.. Test accuracy: 0.737\n",
            "Early stopping\n",
            "Epoch 11/35.. Train loss: 1.318.. Test loss: 1.132.. Test accuracy: 0.750\n",
            "Early stopping\n",
            "Epoch 12/35.. Train loss: 1.261.. Test loss: 1.271.. Test accuracy: 0.712\n",
            "Early stopping\n",
            "Epoch 13/35.. Train loss: 1.472.. Test loss: 1.233.. Test accuracy: 0.715\n",
            "Early stopping\n",
            "Epoch 14/35.. Train loss: 1.393.. Test loss: 1.233.. Test accuracy: 0.730\n",
            "Early stopping\n",
            "Epoch 15/35.. Train loss: 1.316.. Test loss: 1.151.. Test accuracy: 0.751\n",
            "Early stopping\n",
            "Epoch 16/35.. Train loss: 1.444.. Test loss: 1.130.. Test accuracy: 0.746\n",
            "Early stopping\n",
            "Epoch 17/35.. Train loss: 1.290.. Test loss: 1.038.. Test accuracy: 0.768\n",
            "Early stopping\n",
            "Epoch 18/35.. Train loss: 1.313.. Test loss: 1.050.. Test accuracy: 0.777\n",
            "Early stopping\n",
            "Epoch 19/35.. Train loss: 1.382.. Test loss: 1.104.. Test accuracy: 0.745\n",
            "Early stopping\n",
            "Epoch 20/35.. Train loss: 1.366.. Test loss: 1.049.. Test accuracy: 0.752\n",
            "Early stopping\n",
            "Epoch 21/35.. Train loss: 1.352.. Test loss: 1.140.. Test accuracy: 0.757\n",
            "Early stopping\n",
            "Epoch 22/35.. Train loss: 1.294.. Test loss: 1.124.. Test accuracy: 0.763\n",
            "Early stopping\n",
            "Epoch 23/35.. Train loss: 1.341.. Test loss: 1.178.. Test accuracy: 0.743\n",
            "Early stopping\n",
            "Epoch 24/35.. Train loss: 1.383.. Test loss: 1.123.. Test accuracy: 0.753\n",
            "Early stopping\n",
            "Epoch 25/35.. Train loss: 1.444.. Test loss: 1.184.. Test accuracy: 0.736\n",
            "Early stopping\n",
            "Epoch 26/35.. Train loss: 1.367.. Test loss: 1.065.. Test accuracy: 0.763\n",
            "Early stopping\n",
            "Epoch 27/35.. Train loss: 1.275.. Test loss: 1.033.. Test accuracy: 0.777\n",
            "Early stopping\n",
            "Epoch 28/35.. Train loss: 1.403.. Test loss: 1.104.. Test accuracy: 0.737\n",
            "Early stopping\n",
            "Epoch 29/35.. Train loss: 1.367.. Test loss: 1.154.. Test accuracy: 0.749\n",
            "Early stopping\n",
            "Epoch 30/35.. Train loss: 1.407.. Test loss: 1.068.. Test accuracy: 0.778\n",
            "Early stopping\n",
            "Epoch 31/35.. Train loss: 1.117.. Test loss: 1.032.. Test accuracy: 0.781\n",
            "Early stopping\n",
            "Epoch 32/35.. Train loss: 1.342.. Test loss: 1.036.. Test accuracy: 0.776\n",
            "Early stopping\n",
            "Epoch 33/35.. Train loss: 1.170.. Test loss: 1.037.. Test accuracy: 0.759\n",
            "Early stopping\n",
            "Epoch 34/35.. Train loss: 1.307.. Test loss: 0.965.. Test accuracy: 0.772\n",
            "Early stopping\n",
            "Epoch 35/35.. Train loss: 1.256.. Test loss: 1.043.. Test accuracy: 0.789\n",
            "Early stopping\n"
          ]
        }
      ],
      "source": [
        "epochs = 35\n",
        "steps = 0\n",
        "print_every = 15\n",
        "\n",
        "train_losses = []\n",
        "test_losses = []\n",
        "test_accuracies = []\n",
        "\n",
        "for epoch in range(epochs):\n",
        "    running_loss = 0\n",
        "    model.train()\n",
        "    for inputs, labels in train_dataloaders:\n",
        "        steps += 1\n",
        "        # Move input and label tensors to the default device\n",
        "        inputs, labels = inputs.to(device), labels.to(device)\n",
        "\n",
        "        logps = model.forward(inputs)\n",
        "        loss = criterion(logps, labels)\n",
        "\n",
        "        optimizer.zero_grad()\n",
        "        loss.backward()\n",
        "        optimizer.step()\n",
        "\n",
        "        running_loss += loss.item()\n",
        "\n",
        "        if steps % print_every == 0:\n",
        "            model.eval()\n",
        "            test_loss = 0\n",
        "            accuracy = 0\n",
        "            with torch.no_grad():\n",
        "                for test_inputs, test_labels in test_dataloaders:\n",
        "                    test_inputs, test_labels = test_inputs.to(device), test_labels.to(device)\n",
        "                    test_logps = model.forward(test_inputs)\n",
        "                    batch_loss = criterion(test_logps, test_labels)\n",
        "\n",
        "                    test_loss += batch_loss.item()\n",
        "\n",
        "                    # Calculate accuracy\n",
        "                    ps = torch.exp(test_logps)\n",
        "                    top_p, top_class = ps.topk(1, dim=1)\n",
        "                    equals = top_class == test_labels.view(*top_class.shape)\n",
        "                    accuracy += torch.mean(equals.type(torch.FloatTensor)).item()\n",
        "\n",
        "            train_losses.append(running_loss / print_every)\n",
        "            test_losses.append(test_loss / len(test_dataloaders))\n",
        "            test_accuracies.append(accuracy / len(test_dataloaders))\n",
        "\n",
        "            print(f\"Epoch {epoch+1}/{epochs}.. \"\n",
        "                  f\"Train loss: {train_losses[-1]:.3f}.. \"\n",
        "                  f\"Test loss: {test_losses[-1]:.3f}.. \"\n",
        "                  f\"Test accuracy: {test_accuracies[-1]:.3f}\")\n",
        "            # Check if early stopping criteria met\n",
        "            early_stopping(test_losses[-1])\n",
        "\n",
        "            if early_stopping.early_stop:\n",
        "                print(\"Early stopping\")\n",
        "                break\n",
        "\n",
        "            running_loss = 0\n",
        "            model.train()\n"
      ]
    },
    {
      "cell_type": "code",
      "execution_count": null,
      "metadata": {
        "id": "9yxza7123Pxl",
        "outputId": "c60bb53a-9866-453e-9794-ad8920180868",
        "colab": {
          "base_uri": "https://localhost:8080/",
          "height": 157
        }
      },
      "outputs": [
        {
          "output_type": "execute_result",
          "data": {
            "text/plain": [
              "'epochs = 30\\nsteps = 0\\nrunning_loss = 0\\nprint_every = 5\\nfor epoch in range(epochs):\\n    for inputs, labels in train_dataloaders:\\n        steps += 1\\n        # Move input and label tensors to the default device\\n        inputs, labels = inputs.to(device), labels.to(device)\\n\\n        logps = model.forward(inputs)\\n        loss = criterion(logps, labels)\\n\\n        optimizer.zero_grad()\\n        loss.backward()\\n        optimizer.step()\\n\\n        running_loss += loss.item()\\n\\n        if steps % print_every == 0:\\n            test_loss = 0\\n            accuracy = 0\\n            model.eval()\\n            with torch.no_grad():\\n                for inputs, labels in test_dataloaders:\\n                    inputs, labels = inputs.to(device), labels.to(device)\\n                    logps = model.forward(inputs)\\n                    batch_loss = criterion(logps, labels)\\n\\n                    test_loss += batch_loss.item()\\n\\n                    # Calculate accuracy\\n                    ps = torch.exp(logps)\\n                    top_p, top_class = ps.topk(1, dim=1)\\n                    equals = top_class == labels.view(*top_class.shape)\\n                    accuracy += torch.mean(equals.type(torch.FloatTensor)).item()\\n\\n            print(f\"Epoch {epoch+1}/{epochs}.. \"\\n                  f\"Train loss: {running_loss/print_every:.3f}.. \"\\n                  f\"Test loss: {test_loss/len(test_dataloaders):.3f}.. \"\\n                  f\"Test accuracy: {accuracy/len(test_dataloaders):.3f}\")\\n            running_loss = 0\\n            model.train()\\n        print(f\"Epoch [{epoch + 1}/{num_epochs}] - Loss: {running_loss / len(train_loader)}\")\\n        '"
            ],
            "application/vnd.google.colaboratory.intrinsic+json": {
              "type": "string"
            }
          },
          "metadata": {},
          "execution_count": 80
        }
      ],
      "source": [
        "\"\"\"epochs = 30\n",
        "steps = 0\n",
        "running_loss = 0\n",
        "print_every = 5\n",
        "for epoch in range(epochs):\n",
        "    for inputs, labels in train_dataloaders:\n",
        "        steps += 1\n",
        "        # Move input and label tensors to the default device\n",
        "        inputs, labels = inputs.to(device), labels.to(device)\n",
        "\n",
        "        logps = model.forward(inputs)\n",
        "        loss = criterion(logps, labels)\n",
        "\n",
        "        optimizer.zero_grad()\n",
        "        loss.backward()\n",
        "        optimizer.step()\n",
        "\n",
        "        running_loss += loss.item()\n",
        "\n",
        "        if steps % print_every == 0:\n",
        "            test_loss = 0\n",
        "            accuracy = 0\n",
        "            model.eval()\n",
        "            with torch.no_grad():\n",
        "                for inputs, labels in test_dataloaders:\n",
        "                    inputs, labels = inputs.to(device), labels.to(device)\n",
        "                    logps = model.forward(inputs)\n",
        "                    batch_loss = criterion(logps, labels)\n",
        "\n",
        "                    test_loss += batch_loss.item()\n",
        "\n",
        "                    # Calculate accuracy\n",
        "                    ps = torch.exp(logps)\n",
        "                    top_p, top_class = ps.topk(1, dim=1)\n",
        "                    equals = top_class == labels.view(*top_class.shape)\n",
        "                    accuracy += torch.mean(equals.type(torch.FloatTensor)).item()\n",
        "\n",
        "            print(f\"Epoch {epoch+1}/{epochs}.. \"\n",
        "                  f\"Train loss: {running_loss/print_every:.3f}.. \"\n",
        "                  f\"Test loss: {test_loss/len(test_dataloaders):.3f}.. \"\n",
        "                  f\"Test accuracy: {accuracy/len(test_dataloaders):.3f}\")\n",
        "            running_loss = 0\n",
        "            model.train()\n",
        "        print(f\"Epoch [{epoch + 1}/{num_epochs}] - Loss: {running_loss / len(train_loader)}\")\n",
        "        \"\"\""
      ]
    },
    {
      "cell_type": "markdown",
      "metadata": {
        "id": "miTxcV3p3Pxp"
      },
      "source": [
        "## Testing your network\n",
        "\n",
        "It's good practice to test your trained network on test data, images the network has never seen either in training or validation. This will give you a good estimate for the model's performance on completely new images. Run the test images through the network and measure the accuracy, the same way you did validation. You should be able to reach around 70% accuracy on the test set if the model has been trained well."
      ]
    },
    {
      "cell_type": "code",
      "execution_count": null,
      "metadata": {
        "id": "baP9g9RD3Pxq",
        "outputId": "99d16f25-6f9f-405f-c0be-7f2d267bbff3",
        "colab": {
          "base_uri": "https://localhost:8080/"
        }
      },
      "outputs": [
        {
          "output_type": "stream",
          "name": "stdout",
          "text": [
            "Validation Loss: 0.961, Validation Accuracy: 0.780\n"
          ]
        }
      ],
      "source": [
        "# TODO: Do validation on the test set\n",
        "\n",
        "valid_losses = []\n",
        "valid_accuracies = []\n",
        "\n",
        "model.eval()\n",
        "with torch.no_grad():\n",
        "    for inputs, labels in valid_dataloaders:\n",
        "        inputs, labels = inputs.to(device), labels.to(device)\n",
        "        logps = model(inputs)\n",
        "        batch_loss = criterion(logps, labels)\n",
        "\n",
        "        # Accumulate test loss and accuracy\n",
        "        valid_losses.append(batch_loss.item())\n",
        "        ps = torch.exp(logps)\n",
        "        top_p, top_class = ps.topk(1, dim=1)\n",
        "        equals = top_class == labels.view(*top_class.shape)\n",
        "        accuracy = torch.mean(equals.type(torch.FloatTensor))\n",
        "        valid_accuracies.append(accuracy.item())\n",
        "\n",
        "# Calculate mean loss and accuracy over the validation set\n",
        "avg_valid_loss = sum(valid_losses) / len(valid_losses)\n",
        "avg_valid_accuracy = sum(valid_accuracies) / len(valid_accuracies)\n",
        "\n",
        "print(f\"Validation Loss: {avg_valid_loss:.3f}, Validation Accuracy: {avg_valid_accuracy:.3f}\")\n",
        "\n"
      ]
    },
    {
      "cell_type": "code",
      "source": [
        "from google.colab import drive\n",
        "drive.mount('/content/drive')\n"
      ],
      "metadata": {
        "colab": {
          "base_uri": "https://localhost:8080/"
        },
        "id": "vWlhyod4r_zq",
        "outputId": "bb6a8aa6-2e71-4238-ea27-1ccaafed5af4"
      },
      "execution_count": null,
      "outputs": [
        {
          "output_type": "stream",
          "name": "stdout",
          "text": [
            "Mounted at /content/drive\n"
          ]
        }
      ]
    },
    {
      "cell_type": "code",
      "source": [
        "import datetime"
      ],
      "metadata": {
        "id": "HDbviqfX9cQy"
      },
      "execution_count": null,
      "outputs": []
    },
    {
      "cell_type": "code",
      "source": [
        "current_datetime = datetime.datetime.now()"
      ],
      "metadata": {
        "id": "RZVD2DvE9axR"
      },
      "execution_count": null,
      "outputs": []
    },
    {
      "cell_type": "code",
      "source": [
        "def save_checkpoint(model, checkpoint_dir):\n",
        "    checkpoint_filename = f'checkpoint_{epoch}_{avg_valid_accuracy:.4f}_{current_datetime}.pt'\n",
        "    checkpoint_path = os.path.join(checkpoint_dir, checkpoint_filename)\n",
        "\n",
        "    state = {\n",
        "        'model_state_dict': model.state_dict()\n",
        "    }\n",
        "\n",
        "    torch.save(state, checkpoint_path)\n"
      ],
      "metadata": {
        "id": "2JhsewNmsjoz"
      },
      "execution_count": null,
      "outputs": []
    },
    {
      "cell_type": "code",
      "source": [
        "checkpoint_folder = '/content/drive/MyDrive/udacity'\n",
        "os.makedirs(checkpoint_folder, exist_ok=True)\n"
      ],
      "metadata": {
        "id": "9dCBGT3Est2F"
      },
      "execution_count": null,
      "outputs": []
    },
    {
      "cell_type": "code",
      "source": [],
      "metadata": {
        "id": "8yk3oCtA8xRv"
      },
      "execution_count": null,
      "outputs": []
    },
    {
      "cell_type": "code",
      "source": [],
      "metadata": {
        "id": "sP4CVBz588rX"
      },
      "execution_count": null,
      "outputs": []
    },
    {
      "cell_type": "code",
      "source": [
        "save_checkpoint(model, checkpoint_folder)"
      ],
      "metadata": {
        "id": "46uLt-OUtFlS"
      },
      "execution_count": null,
      "outputs": []
    },
    {
      "cell_type": "code",
      "execution_count": null,
      "metadata": {
        "id": "V3psde8S3Pxo"
      },
      "outputs": [],
      "source": [
        " # Save the checkpoint\n",
        "#torch.save(model.state_dict(), \"chpt_09_08.pth\")"
      ]
    },
    {
      "cell_type": "code",
      "execution_count": null,
      "metadata": {
        "id": "gGxv8W413Pxr",
        "colab": {
          "base_uri": "https://localhost:8080/"
        },
        "outputId": "443876ff-3f2d-4b38-c034-3328349f377e"
      },
      "outputs": [
        {
          "output_type": "execute_result",
          "data": {
            "text/plain": [
              "[1.360943078994751,\n",
              " 1.2008081674575806,\n",
              " 0.6629605889320374,\n",
              " 0.8098258376121521,\n",
              " 1.1906936168670654,\n",
              " 1.4263776540756226,\n",
              " 0.7833811044692993,\n",
              " 0.9703443646430969,\n",
              " 1.0277060270309448,\n",
              " 0.803131639957428,\n",
              " 0.9527329802513123,\n",
              " 1.030432939529419,\n",
              " 0.2732710838317871]"
            ]
          },
          "metadata": {},
          "execution_count": 89
        }
      ],
      "source": [
        "valid_losses"
      ]
    },
    {
      "cell_type": "markdown",
      "metadata": {
        "id": "RSb--7g43Pxs"
      },
      "source": [
        "## Save the checkpoint\n",
        "\n",
        "Now that your network is trained, save the model so you can load it later for making predictions. You probably want to save other things such as the mapping of classes to indices which you get from one of the image datasets: `image_datasets['train'].class_to_idx`. You can attach this to the model as an attribute which makes inference easier later on.\n",
        "\n",
        "```model.class_to_idx = image_datasets['train'].class_to_idx```\n",
        "\n",
        "Remember that you'll want to completely rebuild the model later so you can use it for inference. Make sure to include any information you need in the checkpoint. If you want to load the model and keep training, you'll want to save the number of epochs as well as the optimizer state, `optimizer.state_dict`. You'll likely want to use this trained model in the next part of the project, so best to save it now."
      ]
    },
    {
      "cell_type": "code",
      "execution_count": null,
      "metadata": {
        "id": "URw65h_A3Pxs"
      },
      "outputs": [],
      "source": [
        "# TODO: Save the checkpoint"
      ]
    },
    {
      "cell_type": "markdown",
      "metadata": {
        "id": "gigOyTRW3Pxt"
      },
      "source": [
        "## Loading the checkpoint\n",
        "\n",
        "At this point it's good to write a function that can load a checkpoint and rebuild the model. That way you can come back to this project and keep working on it without having to retrain the network."
      ]
    },
    {
      "cell_type": "code",
      "execution_count": null,
      "metadata": {
        "id": "lmk_Hg2o3Pxu"
      },
      "outputs": [],
      "source": [
        "# TODO: Write a function that loads a checkpoint and rebuilds the model"
      ]
    },
    {
      "cell_type": "markdown",
      "metadata": {
        "id": "4953haDK3Pxv"
      },
      "source": [
        "# Inference for classification\n",
        "\n",
        "Now you'll write a function to use a trained network for inference. That is, you'll pass an image into the network and predict the class of the flower in the image. Write a function called `predict` that takes an image and a model, then returns the top $K$ most likely classes along with the probabilities. It should look like\n",
        "\n",
        "```python\n",
        "probs, classes = predict(image_path, model)\n",
        "print(probs)\n",
        "print(classes)\n",
        "> [ 0.01558163  0.01541934  0.01452626  0.01443549  0.01407339]\n",
        "> ['70', '3', '45', '62', '55']\n",
        "```\n",
        "\n",
        "First you'll need to handle processing the input image such that it can be used in your network.\n",
        "\n",
        "## Image Preprocessing\n",
        "\n",
        "You'll want to use `PIL` to load the image ([documentation](https://pillow.readthedocs.io/en/latest/reference/Image.html)). It's best to write a function that preprocesses the image so it can be used as input for the model. This function should process the images in the same manner used for training.\n",
        "\n",
        "First, resize the images where the shortest side is 256 pixels, keeping the aspect ratio. This can be done with the [`thumbnail`](http://pillow.readthedocs.io/en/3.1.x/reference/Image.html#PIL.Image.Image.thumbnail) or [`resize`](http://pillow.readthedocs.io/en/3.1.x/reference/Image.html#PIL.Image.Image.thumbnail) methods. Then you'll need to crop out the center 224x224 portion of the image.\n",
        "\n",
        "Color channels of images are typically encoded as integers 0-255, but the model expected floats 0-1. You'll need to convert the values. It's easiest with a Numpy array, which you can get from a PIL image like so `np_image = np.array(pil_image)`.\n",
        "\n",
        "As before, the network expects the images to be normalized in a specific way. For the means, it's `[0.485, 0.456, 0.406]` and for the standard deviations `[0.229, 0.224, 0.225]`. You'll want to subtract the means from each color channel, then divide by the standard deviation.\n",
        "\n",
        "And finally, PyTorch expects the color channel to be the first dimension but it's the third dimension in the PIL image and Numpy array. You can reorder dimensions using [`ndarray.transpose`](https://docs.scipy.org/doc/numpy-1.13.0/reference/generated/numpy.ndarray.transpose.html). The color channel needs to be first and retain the order of the other two dimensions."
      ]
    },
    {
      "cell_type": "code",
      "execution_count": null,
      "metadata": {
        "id": "wvYXslQ43Pxw"
      },
      "outputs": [],
      "source": [
        "def process_image(image):\n",
        "    ''' Scales, crops, and normalizes a PIL image for a PyTorch model,\n",
        "        returns an Numpy array\n",
        "    '''\n",
        "\n",
        "    # TODO: Process a PIL image for use in a PyTorch model"
      ]
    },
    {
      "cell_type": "markdown",
      "metadata": {
        "id": "MWqPuW_K3Pxw"
      },
      "source": [
        "To check your work, the function below converts a PyTorch tensor and displays it in the notebook. If your `process_image` function works, running the output through this function should return the original image (except for the cropped out portions)."
      ]
    },
    {
      "cell_type": "code",
      "execution_count": null,
      "metadata": {
        "id": "Vn000GBp3Pxx"
      },
      "outputs": [],
      "source": [
        "def imshow(image, ax=None, title=None):\n",
        "    \"\"\"Imshow for Tensor.\"\"\"\n",
        "    if ax is None:\n",
        "        fig, ax = plt.subplots()\n",
        "\n",
        "    # PyTorch tensors assume the color channel is the first dimension\n",
        "    # but matplotlib assumes is the third dimension\n",
        "    image = image.numpy().transpose((1, 2, 0))\n",
        "\n",
        "    # Undo preprocessing\n",
        "    mean = np.array([0.485, 0.456, 0.406])\n",
        "    std = np.array([0.229, 0.224, 0.225])\n",
        "    image = std * image + mean\n",
        "\n",
        "    # Image needs to be clipped between 0 and 1 or it looks like noise when displayed\n",
        "    image = np.clip(image, 0, 1)\n",
        "\n",
        "    ax.imshow(image)\n",
        "\n",
        "    return ax"
      ]
    },
    {
      "cell_type": "markdown",
      "metadata": {
        "id": "CXOcJQbZ3Pxy"
      },
      "source": [
        "## Class Prediction\n",
        "\n",
        "Once you can get images in the correct format, it's time to write a function for making predictions with your model. A common practice is to predict the top 5 or so (usually called top-$K$) most probable classes. You'll want to calculate the class probabilities then find the $K$ largest values.\n",
        "\n",
        "To get the top $K$ largest values in a tensor use [`x.topk(k)`](http://pytorch.org/docs/master/torch.html#torch.topk). This method returns both the highest `k` probabilities and the indices of those probabilities corresponding to the classes. You need to convert from these indices to the actual class labels using `class_to_idx` which hopefully you added to the model or from an `ImageFolder` you used to load the data ([see here](#Save-the-checkpoint)). Make sure to invert the dictionary so you get a mapping from index to class as well.\n",
        "\n",
        "Again, this method should take a path to an image and a model checkpoint, then return the probabilities and classes.\n",
        "\n",
        "```python\n",
        "probs, classes = predict(image_path, model)\n",
        "print(probs)\n",
        "print(classes)\n",
        "> [ 0.01558163  0.01541934  0.01452626  0.01443549  0.01407339]\n",
        "> ['70', '3', '45', '62', '55']\n",
        "```"
      ]
    },
    {
      "cell_type": "code",
      "execution_count": null,
      "metadata": {
        "id": "dvCEsr9E3Pxz"
      },
      "outputs": [],
      "source": [
        "def predict(image_path, model, topk=5):\n",
        "    ''' Predict the class (or classes) of an image using a trained deep learning model.\n",
        "    '''\n",
        "\n",
        "    # TODO: Implement the code to predict the class from an image file"
      ]
    },
    {
      "cell_type": "markdown",
      "metadata": {
        "id": "7dckyCof3Px0"
      },
      "source": [
        "## Sanity Checking\n",
        "\n",
        "Now that you can use a trained model for predictions, check to make sure it makes sense. Even if the testing accuracy is high, it's always good to check that there aren't obvious bugs. Use `matplotlib` to plot the probabilities for the top 5 classes as a bar graph, along with the input image. It should look like this:\n",
        "\n",
        "<img src='assets/inference_example.png' width=300px>\n",
        "\n",
        "You can convert from the class integer encoding to actual flower names with the `cat_to_name.json` file (should have been loaded earlier in the notebook). To show a PyTorch tensor as an image, use the `imshow` function defined above."
      ]
    },
    {
      "cell_type": "code",
      "execution_count": null,
      "metadata": {
        "id": "AE_WsRur3Px1"
      },
      "outputs": [],
      "source": [
        "# TODO: Display an image along with the top 5 classes"
      ]
    },
    {
      "cell_type": "code",
      "execution_count": null,
      "metadata": {
        "id": "y66J2DfN3Px2"
      },
      "outputs": [],
      "source": []
    },
    {
      "cell_type": "markdown",
      "metadata": {
        "id": "XUD4ytr03Px2"
      },
      "source": [
        "## Reminder for Workspace users\n",
        "If your network becomes very large when saved as a checkpoint, there might be issues with saving backups in your workspace. You should reduce the size of your hidden layers and train again.\n",
        "    \n",
        "We strongly encourage you to delete these large interim files and directories before navigating to another page or closing the browser tab."
      ]
    },
    {
      "cell_type": "code",
      "execution_count": null,
      "metadata": {
        "id": "GVW6stLS3Px3"
      },
      "outputs": [],
      "source": [
        "# TODO remove .pth files or move it to a temporary `~/opt` directory in this Workspace"
      ]
    },
    {
      "cell_type": "code",
      "execution_count": null,
      "metadata": {
        "id": "LFIq-u243Px4"
      },
      "outputs": [],
      "source": []
    }
  ],
  "metadata": {
    "colab": {
      "provenance": [],
      "gpuType": "T4",
      "include_colab_link": true
    },
    "kernelspec": {
      "display_name": "Python 3",
      "name": "python3"
    },
    "language_info": {
      "codemirror_mode": {
        "name": "ipython",
        "version": 3
      },
      "file_extension": ".py",
      "mimetype": "text/x-python",
      "name": "python",
      "nbconvert_exporter": "python",
      "pygments_lexer": "ipython3",
      "version": "3.10.12"
    },
    "accelerator": "GPU"
  },
  "nbformat": 4,
  "nbformat_minor": 0
}